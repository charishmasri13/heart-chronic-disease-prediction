{
  "nbformat": 4,
  "nbformat_minor": 0,
  "metadata": {
    "colab": {
      "provenance": []
    },
    "kernelspec": {
      "name": "python3",
      "display_name": "Python 3"
    },
    "language_info": {
      "name": "python"
    }
  },
  "cells": [
    {
      "cell_type": "code",
      "execution_count": null,
      "metadata": {
        "colab": {
          "base_uri": "https://localhost:8080/"
        },
        "id": "nCTlexg0FfOB",
        "outputId": "5ae48fa5-5de7-4623-ce68-11a2deb3e9f4"
      },
      "outputs": [
        {
          "name": "stdout",
          "output_type": "stream",
          "text": [
            "enter age:19\n",
            "enter sex:0\n",
            "enter cp:1\n",
            "enter trestbps:1\n",
            "enter restecg:1\n",
            "enter thalach:1\n",
            "enter exang:1\n",
            "enter oldpeak:1\n",
            "enter slope:1\n",
            "enter ca:1\n",
            "enter thal:1\n"
          ]
        },
        {
          "output_type": "execute_result",
          "data": {
            "text/plain": [
              "[19, 0, 1, 1, 1, 1, 1, 1, 1, 1, 1]"
            ]
          },
          "metadata": {},
          "execution_count": 11
        }
      ],
      "source": [
        "labels = ['age', 'sex', 'cp', 'trestbps', 'restecg', 'thalach', 'exang',\n",
        "       'oldpeak', 'slope', 'ca', 'thal']\n",
        "inputs = []\n",
        "for lable in labels:\n",
        "  inputs.append(int(input('enter '+ lable + ':')))\n",
        "inputs"
      ]
    },
    {
      "cell_type": "code",
      "source": [
        "from keras.models import load_model\n",
        "import numpy as np\n",
        "obj = load_model('/content/heart.h5')\n",
        "\n",
        "in_array = np.array([inputs])\n",
        "result = obj.predict(in_array)\n",
        "\n",
        "if result > 0.5:\n",
        "  print(\"Heart Disease\")\n",
        "else:\n",
        "  print(\"No Disease\")"
      ],
      "metadata": {
        "colab": {
          "base_uri": "https://localhost:8080/"
        },
        "id": "xkvrQsCeKVHk",
        "outputId": "137a73f6-82be-498f-b30e-50e0759199ba"
      },
      "execution_count": null,
      "outputs": [
        {
          "output_type": "stream",
          "name": "stderr",
          "text": [
            "WARNING:absl:Compiled the loaded model, but the compiled metrics have yet to be built. `model.compile_metrics` will be empty until you train or evaluate the model.\n"
          ]
        },
        {
          "output_type": "stream",
          "name": "stdout",
          "text": [
            "\u001b[1m1/1\u001b[0m \u001b[32m━━━━━━━━━━━━━━━━━━━━\u001b[0m\u001b[37m\u001b[0m \u001b[1m0s\u001b[0m 81ms/step\n",
            "Heart Disease\n"
          ]
        }
      ]
    },
    {
      "cell_type": "code",
      "source": [],
      "metadata": {
        "id": "MxaZ6KIfKzgi"
      },
      "execution_count": null,
      "outputs": []
    }
  ]
}